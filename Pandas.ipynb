{
  "nbformat": 4,
  "nbformat_minor": 0,
  "metadata": {
    "colab": {
      "name": "Pandas.ipynb",
      "provenance": [],
      "collapsed_sections": [],
      "authorship_tag": "ABX9TyPuZ6p00QpO8vnK1iMEUzfq",
      "include_colab_link": true
    },
    "kernelspec": {
      "name": "python3",
      "display_name": "Python 3"
    },
    "language_info": {
      "name": "python"
    }
  },
  "cells": [
    {
      "cell_type": "markdown",
      "metadata": {
        "id": "view-in-github",
        "colab_type": "text"
      },
      "source": [
        "<a href=\"https://colab.research.google.com/github/divyatalera/Pandas/blob/main/Pandas.ipynb\" target=\"_parent\"><img src=\"https://colab.research.google.com/assets/colab-badge.svg\" alt=\"Open In Colab\"/></a>"
      ]
    },
    {
      "cell_type": "code",
      "metadata": {
        "id": "YpCbnyAs9j8_"
      },
      "source": [
        "import pandas as pd\n",
        "\n",
        "url = 'https://raw.githubusercontent.com/divyatalera/Pandas/main/Iris.csv'\n",
        "df = pd.read_table(url, sep=',')\n",
        "# df = pd.read_table(url, sep=',',nrows=3) #specify number of rows\n",
        "df.head()\n"
      ],
      "execution_count": null,
      "outputs": []
    },
    {
      "cell_type": "code",
      "metadata": {
        "id": "dWE_c6UIBkFB"
      },
      "source": [
        "df.describe()  # calculates summary statistics\n"
      ],
      "execution_count": null,
      "outputs": []
    },
    {
      "cell_type": "code",
      "metadata": {
        "id": "F-pdkib_FA6Q"
      },
      "source": [
        "df.shape  # number of rows and columns\n",
        "df.dtypes # data type of each column"
      ],
      "execution_count": null,
      "outputs": []
    },
    {
      "cell_type": "code",
      "metadata": {
        "id": "UvDtpgQGDZaf"
      },
      "source": [
        "# df.columns # examine the column names\n",
        "df.rename(columns={'SepalLengthCm':'Sepal_Length', 'PetalLengthCm':'Petal_Length'}, inplace=True)  #rename column name\n",
        "df.columns"
      ],
      "execution_count": null,
      "outputs": []
    },
    {
      "cell_type": "code",
      "metadata": {
        "id": "yK0jsFeHDZsC"
      },
      "source": [
        "df.drop('Sepal_Length', axis=1, inplace=True) # remove a single column (axis=1 refers to columns)\n",
        "df.head()"
      ],
      "execution_count": null,
      "outputs": []
    },
    {
      "cell_type": "code",
      "metadata": {
        "id": "foitC5fqENp9"
      },
      "source": [
        "df.Petal_Length.sort_values().head()  #sorting\n",
        "df.Petal_Length.sort_values(ascending=False).head()  #sort in descending order\n",
        "\n"
      ],
      "execution_count": null,
      "outputs": []
    },
    {
      "cell_type": "code",
      "metadata": {
        "id": "v3_gwlwgGP5j"
      },
      "source": [
        "df.sort_values('Petal_Length').head()  #sort complete dataset on the basis of petal_length"
      ],
      "execution_count": null,
      "outputs": []
    },
    {
      "cell_type": "code",
      "metadata": {
        "id": "TBvEOjdoGZKg"
      },
      "source": [
        "df[df.Petal_Length <= 2.6]   #applying filters to dataset"
      ],
      "execution_count": null,
      "outputs": []
    },
    {
      "cell_type": "code",
      "metadata": {
        "id": "a-wu76XhG0DV"
      },
      "source": [
        "#use of the '&'(AND) operator to specify that both conditions are required\n",
        "df[(df.Petal_Length <= 2.6) & (df.Species == 'Iris-setosa')]\n"
      ],
      "execution_count": null,
      "outputs": []
    },
    {
      "cell_type": "code",
      "metadata": {
        "id": "HtcwqcjrHfMh"
      },
      "source": [
        "#use of the '|'(OR) operator to specify that both conditions are required\n",
        "df[(df.Petal_Length <= 2.6) | (df.Species == 'Iris-setosa')]\n"
      ],
      "execution_count": null,
      "outputs": []
    },
    {
      "cell_type": "code",
      "metadata": {
        "id": "_B33OopLIXTo"
      },
      "source": [
        "# Iterable column from the dataset (like a list)\n",
        "for p in df.Petal_Length:\n",
        "    print(p) "
      ],
      "execution_count": null,
      "outputs": []
    }
  ]
}